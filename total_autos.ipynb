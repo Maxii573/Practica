{
 "cells": [
  {
   "cell_type": "markdown",
   "metadata": {},
   "source": [
    "# Importamos "
   ]
  },
  {
   "cell_type": "code",
   "execution_count": 102,
   "metadata": {},
   "outputs": [],
   "source": [
    "import pandas as pd\n",
    "import matplotlib.pyplot as plt"
   ]
  },
  {
   "cell_type": "markdown",
   "metadata": {},
   "source": [
    "***Traemos el csv***"
   ]
  },
  {
   "cell_type": "code",
   "execution_count": 103,
   "metadata": {},
   "outputs": [
    {
     "name": "stdout",
     "output_type": "stream",
     "text": [
      "Ford\n",
      "Dodge\n",
      "Cadillac\n",
      "Toyota\n",
      "Acura\n",
      "Mitsubishi\n",
      "Chevrolet\n",
      "Nissan\n",
      "Mercury\n",
      "BMW\n",
      "Chrysler\n",
      "Subaru\n",
      "Hyundai\n",
      "Honda\n",
      "Infiniti\n",
      "Audi\n",
      "Porsche\n",
      "Volkswagen\n",
      "Buick\n",
      "Saturn\n",
      "Mercedes-B\n",
      "Jaguar\n",
      "Volvo\n",
      "Pontiac\n",
      "Lincoln\n",
      "Oldsmobile\n",
      "Lexus\n",
      "Plymouth\n",
      "Saab\n",
      "Jeep\n"
     ]
    },
    {
     "data": {
      "text/plain": [
       "['Ford',\n",
       " 'Dodge',\n",
       " 'Cadillac',\n",
       " 'Toyota',\n",
       " 'Acura',\n",
       " 'Mitsubishi',\n",
       " 'Chevrolet',\n",
       " 'Nissan',\n",
       " 'Mercury',\n",
       " 'BMW',\n",
       " 'Chrysler',\n",
       " 'Subaru',\n",
       " 'Hyundai',\n",
       " 'Honda',\n",
       " 'Infiniti',\n",
       " 'Audi',\n",
       " 'Porsche',\n",
       " 'Volkswagen',\n",
       " 'Buick',\n",
       " 'Saturn',\n",
       " 'Mercedes-B',\n",
       " 'Jaguar',\n",
       " 'Volvo',\n",
       " 'Pontiac',\n",
       " 'Lincoln',\n",
       " 'Oldsmobile',\n",
       " 'Lexus',\n",
       " 'Plymouth',\n",
       " 'Saab',\n",
       " 'Jeep']"
      ]
     },
     "execution_count": 103,
     "metadata": {},
     "output_type": "execute_result"
    }
   ],
   "source": [
    "df = pd.read_csv(\"dataset.csv\", delimiter=\",\")\n",
    "\n",
    "# Marcas de autos\n",
    "Company = df[\"Company\"].unique()\n",
    "autos = []\n",
    "for i in Company:\n",
    "    autos.append(i)\n",
    "\n",
    "    print(i)\n",
    "\n",
    "autos\n"
   ]
  },
  {
   "cell_type": "markdown",
   "metadata": {},
   "source": [
    "***La cantidad de autos en el dataset son 30***"
   ]
  },
  {
   "cell_type": "markdown",
   "metadata": {},
   "source": [
    "# Porcentaje de las marcas de autos en ventas"
   ]
  },
  {
   "cell_type": "code",
   "execution_count": 111,
   "metadata": {},
   "outputs": [
    {
     "data": {
      "text/plain": [
       "652"
      ]
     },
     "execution_count": 111,
     "metadata": {},
     "output_type": "execute_result"
    }
   ],
   "source": [
    "ford = df[df[\"Company\"] == \"Cadillac\"]\n",
    "len(ford[\"Company\"])"
   ]
  },
  {
   "cell_type": "code",
   "execution_count": 105,
   "metadata": {},
   "outputs": [
    {
     "data": {
      "text/plain": [
       "['Ford',\n",
       " 'Dodge',\n",
       " 'Cadillac',\n",
       " 'Toyota',\n",
       " 'Acura',\n",
       " 'Mitsubishi',\n",
       " 'Chevrolet',\n",
       " 'Nissan',\n",
       " 'Mercury',\n",
       " 'BMW',\n",
       " 'Chrysler',\n",
       " 'Subaru',\n",
       " 'Hyundai',\n",
       " 'Honda',\n",
       " 'Infiniti',\n",
       " 'Audi',\n",
       " 'Porsche',\n",
       " 'Volkswagen',\n",
       " 'Buick',\n",
       " 'Saturn',\n",
       " 'Mercedes-B',\n",
       " 'Jaguar',\n",
       " 'Volvo',\n",
       " 'Pontiac',\n",
       " 'Lincoln',\n",
       " 'Oldsmobile',\n",
       " 'Lexus',\n",
       " 'Plymouth',\n",
       " 'Saab',\n",
       " 'Jeep']"
      ]
     },
     "execution_count": 105,
     "metadata": {},
     "output_type": "execute_result"
    }
   ],
   "source": [
    "autos"
   ]
  },
  {
   "cell_type": "code",
   "execution_count": 126,
   "metadata": {},
   "outputs": [],
   "source": [
    "autos_cantidad = []\n",
    "for i in autos:\n",
    "    cars = df[df[\"Company\"] == i]\n",
    "    len_car = len(cars[\"Company\"])\n",
    "    autos_cantidad.append(len_car)"
   ]
  }
 ],
 "metadata": {
  "kernelspec": {
   "display_name": "env",
   "language": "python",
   "name": "python3"
  },
  "language_info": {
   "codemirror_mode": {
    "name": "ipython",
    "version": 3
   },
   "file_extension": ".py",
   "mimetype": "text/x-python",
   "name": "python",
   "nbconvert_exporter": "python",
   "pygments_lexer": "ipython3",
   "version": "3.12.0"
  }
 },
 "nbformat": 4,
 "nbformat_minor": 2
}
