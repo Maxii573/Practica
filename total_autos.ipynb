{
 "cells": [
  {
   "cell_type": "markdown",
   "metadata": {},
   "source": [
    "# Importamos "
   ]
  },
  {
   "cell_type": "code",
   "execution_count": 102,
   "metadata": {},
   "outputs": [],
   "source": [
    "import pandas as pd\n",
    "import matplotlib.pyplot as plt"
   ]
  },
  {
   "cell_type": "markdown",
   "metadata": {},
   "source": [
    "***Traemos el csv***"
   ]
  },
  {
   "cell_type": "code",
   "execution_count": 103,
   "metadata": {},
   "outputs": [
    {
     "name": "stdout",
     "output_type": "stream",
     "text": [
      "Ford\n",
      "Dodge\n",
      "Cadillac\n",
      "Toyota\n",
      "Acura\n",
      "Mitsubishi\n",
      "Chevrolet\n",
      "Nissan\n",
      "Mercury\n",
      "BMW\n",
      "Chrysler\n",
      "Subaru\n",
      "Hyundai\n",
      "Honda\n",
      "Infiniti\n",
      "Audi\n",
      "Porsche\n",
      "Volkswagen\n",
      "Buick\n",
      "Saturn\n",
      "Mercedes-B\n",
      "Jaguar\n",
      "Volvo\n",
      "Pontiac\n",
      "Lincoln\n",
      "Oldsmobile\n",
      "Lexus\n",
      "Plymouth\n",
      "Saab\n",
      "Jeep\n"
     ]
    },
    {
     "data": {
      "text/plain": [
       "['Ford',\n",
       " 'Dodge',\n",
       " 'Cadillac',\n",
       " 'Toyota',\n",
       " 'Acura',\n",
       " 'Mitsubishi',\n",
       " 'Chevrolet',\n",
       " 'Nissan',\n",
       " 'Mercury',\n",
       " 'BMW',\n",
       " 'Chrysler',\n",
       " 'Subaru',\n",
       " 'Hyundai',\n",
       " 'Honda',\n",
       " 'Infiniti',\n",
       " 'Audi',\n",
       " 'Porsche',\n",
       " 'Volkswagen',\n",
       " 'Buick',\n",
       " 'Saturn',\n",
       " 'Mercedes-B',\n",
       " 'Jaguar',\n",
       " 'Volvo',\n",
       " 'Pontiac',\n",
       " 'Lincoln',\n",
       " 'Oldsmobile',\n",
       " 'Lexus',\n",
       " 'Plymouth',\n",
       " 'Saab',\n",
       " 'Jeep']"
      ]
     },
     "execution_count": 103,
     "metadata": {},
     "output_type": "execute_result"
    }
   ],
   "source": [
    "df = pd.read_csv(\"dataset.csv\", delimiter=\",\")\n",
    "\n",
    "# Marcas de autos\n",
    "Company = df[\"Company\"].unique()\n",
    "autos = []\n",
    "for i in Company:\n",
    "    autos.append(i)\n",
    "\n",
    "    print(i)\n",
    "\n",
    "autos\n"
   ]
  },
  {
   "cell_type": "markdown",
   "metadata": {},
   "source": [
    "***La cantidad de autos en el dataset son 30***"
   ]
  },
  {
   "cell_type": "markdown",
   "metadata": {},
   "source": [
    "# Porcentaje de las marcas de autos en ventas"
   ]
  },
  {
   "cell_type": "code",
   "execution_count": 105,
   "metadata": {},
   "outputs": [
    {
     "data": {
      "text/plain": [
       "['Ford',\n",
       " 'Dodge',\n",
       " 'Cadillac',\n",
       " 'Toyota',\n",
       " 'Acura',\n",
       " 'Mitsubishi',\n",
       " 'Chevrolet',\n",
       " 'Nissan',\n",
       " 'Mercury',\n",
       " 'BMW',\n",
       " 'Chrysler',\n",
       " 'Subaru',\n",
       " 'Hyundai',\n",
       " 'Honda',\n",
       " 'Infiniti',\n",
       " 'Audi',\n",
       " 'Porsche',\n",
       " 'Volkswagen',\n",
       " 'Buick',\n",
       " 'Saturn',\n",
       " 'Mercedes-B',\n",
       " 'Jaguar',\n",
       " 'Volvo',\n",
       " 'Pontiac',\n",
       " 'Lincoln',\n",
       " 'Oldsmobile',\n",
       " 'Lexus',\n",
       " 'Plymouth',\n",
       " 'Saab',\n",
       " 'Jeep']"
      ]
     },
     "execution_count": 105,
     "metadata": {},
     "output_type": "execute_result"
    }
   ],
   "source": [
    "autos"
   ]
  },
  {
   "cell_type": "code",
   "execution_count": 142,
   "metadata": {},
   "outputs": [
    {
     "data": {
      "text/plain": [
       "[1614,\n",
       " 1671,\n",
       " 652,\n",
       " 1110,\n",
       " 689,\n",
       " 1277,\n",
       " 1819,\n",
       " 886,\n",
       " 874,\n",
       " 790,\n",
       " 1120,\n",
       " 405,\n",
       " 264,\n",
       " 708,\n",
       " 195,\n",
       " 468,\n",
       " 361,\n",
       " 1333,\n",
       " 439,\n",
       " 586,\n",
       " 1285,\n",
       " 180,\n",
       " 789,\n",
       " 796,\n",
       " 492,\n",
       " 1111,\n",
       " 802,\n",
       " 617,\n",
       " 210,\n",
       " 363]"
      ]
     },
     "execution_count": 142,
     "metadata": {},
     "output_type": "execute_result"
    }
   ],
   "source": [
    "autos_cantidad = []\n",
    "for i in autos:\n",
    "    cars = df[df[\"Company\"] == i]\n",
    "    len_car = len(cars[\"Company\"])\n",
    "    autos_cantidad.append(len_car)\n",
    "\n",
    "autos_cantidad"
   ]
  },
  {
   "cell_type": "markdown",
   "metadata": {},
   "source": [
    "# Gráfica"
   ]
  },
  {
   "cell_type": "code",
   "execution_count": 146,
   "metadata": {},
   "outputs": [
    {
     "data": {
      "image/png": "[encoded data removed]",
      "text/plain": [
       "<Figure size 640x480 with 1 Axes>"
      ]
     },
     "metadata": {},
     "output_type": "display_data"
    }
   ],
   "source": [
    "# Crear el gráfico de barras horizontales\n",
    "autos, autos_cantidad = zip(*sorted(zip(autos, autos_cantidad), key=lambda x: x[1], reverse=False))\n",
    "plt.barh(autos, autos_cantidad, color='skyblue')\n",
    "\n",
    "# Personalizar el gráfico\n",
    "plt.xlabel('Autos Vendidos')\n",
    "plt.title('Venta de vehiculos')\n",
    "\n",
    "# Mostrar el gráfico\n",
    "plt.show()"
   ]
  },
  {
   "cell_type": "markdown",
   "metadata": {},
   "source": [
    "Como se puede ver en el gráfico, Chevrolet reina la venta de vehiculos"
   ]
  }
 ],
 "metadata": {
  "kernelspec": {
   "display_name": "env",
   "language": "python",
   "name": "python3"
  },
  "language_info": {
   "codemirror_mode": {
    "name": "ipython",
    "version": 3
   },
   "file_extension": ".py",
   "mimetype": "text/x-python",
   "name": "python",
   "nbconvert_exporter": "python",
   "pygments_lexer": "ipython3",
   "version": "3.12.0"
  }
 },
 "nbformat": 4,
 "nbformat_minor": 2
}
